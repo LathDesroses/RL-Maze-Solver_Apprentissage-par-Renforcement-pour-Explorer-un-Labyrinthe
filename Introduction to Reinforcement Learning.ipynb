{
 "cells": [
  {
   "cell_type": "markdown",
   "metadata": {},
   "source": [
    "### Introduction to Reinforcement Learning \n",
    "\n",
    "#### Projet Labyrinthe\n",
    "  \n",
    "- Lath Essoh"
   ]
  },
  {
   "cell_type": "code",
   "execution_count": 48,
   "metadata": {
    "id": "wLWG73Qvk4bC"
   },
   "outputs": [],
   "source": [
    "import numpy as np\n",
    "import matplotlib.pyplot as plt\n",
    "import time"
   ]
  },
  {
   "cell_type": "code",
   "execution_count": 49,
   "metadata": {
    "colab": {
     "base_uri": "https://localhost:8080/"
    },
    "id": "bhRIWyJ5k6Uy",
    "outputId": "e325cad8-e50a-45b0-dabc-91a33b23b397"
   },
   "outputs": [
    {
     "name": "stdout",
     "output_type": "stream",
     "text": [
      "Ce bloc de code a été exécuté et la classe Maze est maintenant disponible pour utilisation.\n"
     ]
    }
   ],
   "source": [
    "class Maze:\n",
    "    def __init__(self, maze, start_position, goal_position):\n",
    "        # Initialisons l'objet Maze avec le labyrinthe fourni, la position de départ et la position de but\n",
    "        self.maze = maze\n",
    "        self.maze_height = maze_layout.shape[0]  # Obtenons la hauteur du labyrinthe (nombre de lignes)\n",
    "        self.maze_width = maze_layout.shape[1]   # Obtenons la largeur du labyrinthe (nombre de colonnes)\n",
    "        self.start_position = start_position     # Définissons la position de départ dans le labyrinthe sous forme de tuple (x, y)\n",
    "        self.goal_position = goal_position       # Définissons la position de but dans le labyrinthe sous forme de tuple (x, y)\n",
    "\n",
    "    def show_maze(self):\n",
    "        # Visualisons le labyrinthe à l'aide de Matplotlib\n",
    "        plt.figure(figsize=(5,5))\n",
    "\n",
    "        # Affichons le labyrinthe sous forme d'image en niveaux de gris (colormap 'gray')\n",
    "        plt.imshow(self.maze, cmap='gray')\n",
    "\n",
    "        # Ajoutons les positions de départ et de but comme 'S' et 'G'\n",
    "        plt.text(self.start_position[0], self.start_position[1], 'S', ha='center', va='center', color='red', fontsize=20)\n",
    "        plt.text(self.goal_position[0], self.goal_position[1], 'G', ha='center', va='center', color='green', fontsize=20)\n",
    "\n",
    "        # Supprimons les graduations et les étiquettes des axes\n",
    "        plt.xticks([]), plt.yticks([])\n",
    "\n",
    "        # Affichons le graphique\n",
    "        plt.show()\n",
    "\n",
    "print(\"Ce bloc de code a été exécuté et la classe Maze est maintenant disponible pour utilisation.\")"
   ]
  },
  {
   "cell_type": "code",
   "execution_count": 50,
   "metadata": {
    "colab": {
     "base_uri": "https://localhost:8080/",
     "height": 422
    },
    "id": "-GrfKWhLk768",
    "outputId": "fe8e4c22-d15c-4c31-b649-23021a1b0978"
   },
   "outputs": [
    {
     "data": {
      "image/png": "[encoded data removed]",
      "text/plain": [
       "<Figure size 500x500 with 1 Axes>"
      ]
     },
     "metadata": {},
     "output_type": "display_data"
    }
   ],
   "source": [
    "# Créons n'importe quelle disposition de labyrinthe que nous souhaitons, voici un exemple\n",
    "maze_layout = np.array([\n",
    "    [0, 1, 0, 0, 0],\n",
    "    [0, 1, 1, 1, 0],\n",
    "    [0, 0, 0, 1, 0],\n",
    "    [1, 1, 0, 1, 1],\n",
    "    [0, 0, 0, 0, 0]\n",
    "])\n",
    "\n",
    "# Créons une instance du labyrinthe et définissons les positions de départ et de but\n",
    "maze = Maze(maze_layout, (0, 0), (4, 4))\n",
    "# Visualisons le labyrinthe\n",
    "maze.show_maze()\n"
   ]
  },
  {
   "cell_type": "code",
   "execution_count": 51,
   "metadata": {
    "colab": {
     "base_uri": "https://localhost:8080/"
    },
    "id": "gl2hWCdwk_E4",
    "outputId": "ec95ac04-9305-4eeb-e837-8f78ad088485"
   },
   "outputs": [
    {
     "name": "stdout",
     "output_type": "stream",
     "text": [
      "Ce bloc de code a été exécuté et la classe QLearningAgent est maintenant disponible pour utilisation.\n"
     ]
    }
   ],
   "source": [
    "# Actions que l'agent peut effectuer : Haut, Bas, Gauche, Droite. Chaque action est représentée par un tuple de deux valeurs : (changement_ligne, changement_colonne)\n",
    "actions = [(-1, 0),  # Haut : Déplacer d'un pas vers le haut, réduisant l'indice de ligne de 1\n",
    "          (1, 0),    # Bas : Déplacer d'un pas vers le bas, augmentant l'indice de ligne de 1\n",
    "          (0, -1),   # Gauche : Déplacer d'un pas vers la gauche, réduisant l'indice de colonne de 1\n",
    "          (0, 1)]    # Droite : Déplacer d'un pas vers la droite, augmentant l'indice de colonne de 1\n",
    "\n",
    "class QLearningAgent:\n",
    "    def __init__(self, maze, learning_rate=0.1, discount_factor=0.9, exploration_start=1.0, exploration_end=0.01, num_episodes=100):\n",
    "        # Initialisons l'agent Q-learning avec une table Q contenant uniquement des zéros\n",
    "        # où les lignes représentent les états, les colonnes représentent les actions, et la troisième dimension est pour chaque action (Haut, Bas, Gauche, Droite)\n",
    "        self.q_table = np.zeros((maze.maze_height, maze.maze_width, 4))  # 4 actions : Haut, Bas, Gauche, Droite\n",
    "        self.learning_rate = learning_rate          # Le taux d'apprentissage détermine dans quelle mesure l'agent met à jour ses valeurs Q après chaque action\n",
    "        self.discount_factor = discount_factor      # Le facteur de remise détermine l'importance des récompenses futures dans les décisions de l'agent\n",
    "        self.exploration_start = exploration_start  # Le taux d'exploration détermine la probabilité que l'agent prenne une action aléatoire\n",
    "        self.exploration_end = exploration_end\n",
    "        self.num_episodes = num_episodes\n",
    "\n",
    "    def get_exploration_rate(self, current_episode):\n",
    "        # Calculons le taux d'exploration actuel en utilisant la formule donnée\n",
    "        exploration_rate = self.exploration_start * (self.exploration_end / self.exploration_start) ** (current_episode / self.num_episodes)\n",
    "        return exploration_rate\n",
    "\n",
    "    def get_action(self, state, current_episode):  # L'état est un tuple représentant la position de l'agent dans le labyrinthe (x, y)\n",
    "        exploration_rate = self.get_exploration_rate(current_episode)\n",
    "        # Sélectionnons une action pour l'état donné soit de manière aléatoire (exploration), soit en utilisant la table Q (exploitation)\n",
    "        if np.random.rand() < exploration_rate:\n",
    "            return np.random.randint(4)  # Choisir une action aléatoire (index 0 à 3, représentant Haut, Bas, Gauche, Droite)\n",
    "        else:\n",
    "            return np.argmax(self.q_table[state])  # Choisir l'action avec la plus grande valeur Q pour l'état donné\n",
    "\n",
    "    def update_q_table(self, state, action, next_state, reward):\n",
    "        # Trouvons la meilleure action suivante en sélectionnant l'action qui maximise la valeur Q pour l'état suivant\n",
    "        best_next_action = np.argmax(self.q_table[next_state])\n",
    "\n",
    "        # Obtenons la valeur Q actuelle pour l'état et l'action donnés\n",
    "        current_q_value = self.q_table[state][action]\n",
    "\n",
    "        # Mise à jour de la valeur Q en utilisant la formule du Q-learning\n",
    "        new_q_value = current_q_value + self.learning_rate * (reward + self.discount_factor * self.q_table[next_state][best_next_action] - current_q_value)\n",
    "\n",
    "        # Mettons à jour la table Q avec la nouvelle valeur Q pour l'état et l'action donnés\n",
    "        self.q_table[state][action] = new_q_value\n",
    "\n",
    "print(\"Ce bloc de code a été exécuté et la classe QLearningAgent est maintenant disponible pour utilisation.\")\n"
   ]
  },
  {
   "cell_type": "code",
   "execution_count": 52,
   "metadata": {
    "colab": {
     "base_uri": "https://localhost:8080/"
    },
    "id": "qt8COnEclBQp",
    "outputId": "8931119d-7f83-47d3-be6c-643d06778558"
   },
   "outputs": [
    {
     "name": "stdout",
     "output_type": "stream",
     "text": [
      "The reward system has been defined.\n"
     ]
    }
   ],
   "source": [
    "goal_reward = 100\n",
    "wall_penalty = -10\n",
    "step_penalty = -1\n",
    "\n",
    "print(\"The reward system has been defined.\")"
   ]
  },
  {
   "cell_type": "code",
   "execution_count": 53,
   "metadata": {
    "colab": {
     "base_uri": "https://localhost:8080/"
    },
    "id": "ysa7Rb-9lDJF",
    "outputId": "e30eb02c-277c-4c87-d83b-073606099e67"
   },
   "outputs": [
    {
     "name": "stdout",
     "output_type": "stream",
     "text": [
      "Ce bloc de code a été exécuté et la fonction finish_episode est maintenant disponible pour utilisation.\n"
     ]
    }
   ],
   "source": [
    "# Cette fonction simule les mouvements de l'agent dans le labyrinthe pour un seul épisode.\n",
    "\n",
    "def finish_episode(agent, maze, current_episode, train=True):\n",
    "    # Initialisons l'état actuel de l'agent à la position de départ du labyrinthe\n",
    "    current_state = maze.start_position\n",
    "    is_done = False\n",
    "    episode_reward = 0\n",
    "    episode_step = 0\n",
    "    path = [current_state]\n",
    "\n",
    "    # Continuons jusqu'à ce que l'épisode soit terminé\n",
    "    while not is_done:\n",
    "        # Obtenons l'action de l'agent pour l'état actuel en utilisant sa table Q\n",
    "        action = agent.get_action(current_state, current_episode)\n",
    "\n",
    "        # Calculons l'état suivant en fonction de l'action choisie\n",
    "        next_state = (current_state[0] + actions[action][0], current_state[1] + actions[action][1])\n",
    "\n",
    "        # Vérifions si l'état suivant est hors des limites ou frappe un mur\n",
    "        if next_state[0] < 0 or next_state[0] >= maze.maze_height or next_state[1] < 0 or next_state[1] >= maze.maze_width or maze.maze[next_state[1]][next_state[0]] == 1:\n",
    "            reward = wall_penalty\n",
    "            next_state = current_state\n",
    "        # Vérifions si l'agent a atteint le but :\n",
    "        elif next_state == (maze.goal_position):\n",
    "            path.append(current_state)\n",
    "            reward = goal_reward\n",
    "            is_done = True\n",
    "        # L'agent fait un pas mais n'a pas encore atteint le but\n",
    "        else:\n",
    "            path.append(current_state)\n",
    "            reward = step_penalty\n",
    "\n",
    "        # Mises à jour de la récompense cumulée et du nombre de pas pour l'épisode\n",
    "        episode_reward += reward\n",
    "        episode_step += 1\n",
    "\n",
    "        # Mettons à jour la table Q de l'agent si l'entraînement est activé\n",
    "        if train == True:\n",
    "            agent.update_q_table(current_state, action, next_state, reward)\n",
    "\n",
    "        # Passons à l'état suivant pour l'itération suivante\n",
    "        current_state = next_state\n",
    "\n",
    "    # Renvoons la récompense cumulée de l'épisode, le nombre total de pas, et le chemin de l'agent pendant la simulation\n",
    "    return episode_reward, episode_step, path\n",
    "\n",
    "print(\"Ce bloc de code a été exécuté et la fonction finish_episode est maintenant disponible pour utilisation.\")\n"
   ]
  },
  {
   "cell_type": "code",
   "execution_count": 54,
   "metadata": {
    "colab": {
     "base_uri": "https://localhost:8080/",
     "height": 548
    },
    "id": "0_dj7pSilFK4",
    "outputId": "fdc97c2e-cbdb-4744-d0fe-7c9904c9973d"
   },
   "outputs": [
    {
     "name": "stdout",
     "output_type": "stream",
     "text": [
      "Chemin appris :\n",
      "(0, 0)-> (0, 0)-> (0, 1)-> (0, 2)-> (1, 2)-> (0, 2)-> (0, 1)-> (0, 2)-> (1, 2)-> (2, 2)-> (2, 3)-> (2, 4)-> (2, 3)-> (2, 4)-> (2, 3)-> (2, 4)-> (2, 3)-> (2, 4)-> (2, 3)-> (2, 4)-> (3, 4)-> (2, 4)-> (2, 3)-> (2, 4)-> (1, 4)-> (2, 4)-> (1, 4)-> (0, 4)-> (1, 4)-> (2, 4)-> (2, 3)-> (2, 2)-> (1, 2)-> (2, 2)-> (2, 3)-> (2, 4)-> (1, 4)-> (0, 4)-> (1, 4)-> (2, 4)-> (3, 4)-> But atteint !\n",
      "Nombre de pas : 79\n",
      "Récompense totale : -329\n"
     ]
    },
    {
     "data": {
      "text/plain": [
       "<Figure size 640x480 with 0 Axes>"
      ]
     },
     "metadata": {},
     "output_type": "display_data"
    },
    {
     "data": {
      "image/png": "[encoded data removed]",
      "text/plain": [
       "<Figure size 500x500 with 1 Axes>"
      ]
     },
     "metadata": {},
     "output_type": "display_data"
    },
    {
     "data": {
      "text/plain": [
       "(79, -329)"
      ]
     },
     "execution_count": 54,
     "metadata": {},
     "output_type": "execute_result"
    }
   ],
   "source": [
    "def test_agent(agent, maze, num_episodes=1):\n",
    "    # Simulons le comportement de l'agent dans le labyrinthe pour le nombre d'épisodes spécifié\n",
    "    episode_reward, episode_step, path = finish_episode(agent, maze, num_episodes, train=False)\n",
    "\n",
    "    # Imprimons le chemin appris par l'agent\n",
    "    print(\"Chemin appris :\")\n",
    "    for row, col in path:\n",
    "        print(f\"({row}, {col})-> \", end='')\n",
    "    print(\"But atteint !\")\n",
    "\n",
    "    print(\"Nombre de pas :\", episode_step)\n",
    "    print(\"Récompense totale :\", episode_reward)\n",
    "\n",
    "    # Effaçons le graphique existant s'il y en a un\n",
    "    if plt.gcf().get_axes():\n",
    "        plt.cla()\n",
    "\n",
    "    # Visualisons le labyrinthe à l'aide de matplotlib\n",
    "    plt.figure(figsize=(5,5))\n",
    "    plt.imshow(maze.maze, cmap='gray')\n",
    "\n",
    "    # Marquons la position de départ (S rouge) et la position du but (G verte) dans le labyrinthe\n",
    "    plt.text(maze.start_position[0], maze.start_position[1], 'S', ha='center', va='center', color='red', fontsize=20)\n",
    "    plt.text(maze.goal_position[0], maze.goal_position[1], 'G', ha='center', va='center', color='green', fontsize=20)\n",
    "\n",
    "    # Marquons le chemin de l'agent avec des symboles '#' bleus\n",
    "    for position in path:\n",
    "        plt.text(position[0], position[1], \"#\", va='center', color='blue', fontsize=20)\n",
    "\n",
    "    # Retirons les ticks des axes et les lignes de la grille pour une visualisation plus propre\n",
    "    plt.xticks([]), plt.yticks([])\n",
    "    plt.grid(color='black', linewidth=2)\n",
    "    plt.show()\n",
    "\n",
    "    return episode_step, episode_reward\n",
    "\n",
    "agent = QLearningAgent(maze)\n",
    "# Testons l'agent à l'aide de la fonction test_agent\n",
    "test_agent(agent, maze)\n"
   ]
  },
  {
   "cell_type": "code",
   "execution_count": 57,
   "metadata": {
    "colab": {
     "base_uri": "https://localhost:8080/"
    },
    "id": "4pXePW-tmqJ9",
    "outputId": "c91105b6-430f-4896-b0d9-3576ed49107e"
   },
   "outputs": [
    {
     "name": "stdout",
     "output_type": "stream",
     "text": [
      "Ce bloc de code a été exécuté et la fonction train_agent est maintenant disponible pour une utilisation.\n"
     ]
    }
   ],
   "source": [
    "def train_agent(agent, maze, num_episodes=100):\n",
    "    # Listes pour stocker les données à tracer\n",
    "    episode_rewards = []\n",
    "    episode_steps = []\n",
    "\n",
    "    # Bouclons sur le nombre d'épisodes spécifié\n",
    "    for episode in range(num_episodes):\n",
    "        episode_reward, episode_step, path = finish_episode(agent, maze, episode, train=True)\n",
    "\n",
    "        # Stockons la récompense cumulée de l'épisode et le nombre de pas effectués dans leurs listes respectives\n",
    "        episode_rewards.append(episode_reward)\n",
    "        episode_steps.append(episode_step)\n",
    "\n",
    "    # Traçons les données après la fin de l'entraînement\n",
    "    plt.figure(figsize=(10, 5))\n",
    "\n",
    "    plt.subplot(1, 2, 1)\n",
    "    plt.plot(episode_rewards)\n",
    "    plt.xlabel('Épisode')\n",
    "    plt.ylabel('Récompense Cumulée')\n",
    "    plt.title('Récompense par Épisode')\n",
    "\n",
    "    average_reward = sum(episode_rewards) / len(episode_rewards)\n",
    "    print(f\"La récompense moyenne est : {average_reward}\")\n",
    "\n",
    "    plt.subplot(1, 2, 2)\n",
    "    plt.plot(episode_steps)\n",
    "    plt.xlabel('Épisode')\n",
    "    plt.ylabel('Pas effectués')\n",
    "    plt.ylim(0, 100)\n",
    "    plt.title('Pas par Épisode')\n",
    "\n",
    "    average_steps = sum(episode_steps) / len(episode_steps)\n",
    "    print(f\"Le nombre moyen de pas est : {average_steps}\")\n",
    "\n",
    "    plt.tight_layout()\n",
    "    plt.show()\n",
    "\n",
    "print(\"Ce bloc de code a été exécuté et la fonction train_agent est maintenant disponible pour une utilisation.\")"
   ]
  },
  {
   "cell_type": "code",
   "execution_count": 58,
   "metadata": {
    "colab": {
     "base_uri": "https://localhost:8080/",
     "height": 542
    },
    "id": "zbXcerMdmwNp",
    "outputId": "3e3ded77-60ab-48f4-8ec1-3f976bb2a262"
   },
   "outputs": [
    {
     "name": "stdout",
     "output_type": "stream",
     "text": [
      "La récompense moyenne est : 59.22\n",
      "Le nombre moyen de pas est : 14.15\n"
     ]
    },
    {
     "data": {
      "image/png": "[encoded data removed]",
      "text/plain": [
       "<Figure size 1000x500 with 2 Axes>"
      ]
     },
     "metadata": {},
     "output_type": "display_data"
    }
   ],
   "source": [
    "train_agent(agent, maze, num_episodes=100)"
   ]
  },
  {
   "cell_type": "code",
   "execution_count": 59,
   "metadata": {
    "colab": {
     "base_uri": "https://localhost:8080/",
     "height": 528
    },
    "id": "psPGJqrFm0HD",
    "outputId": "cda66916-5858-43c3-9e9d-02cb85ce2b65"
   },
   "outputs": [
    {
     "name": "stdout",
     "output_type": "stream",
     "text": [
      "Chemin appris :\n",
      "(0, 0)-> (0, 0)-> (0, 1)-> (0, 2)-> (1, 2)-> (2, 2)-> (2, 3)-> (2, 4)-> (3, 4)-> But atteint !\n",
      "Nombre de pas : 8\n",
      "Récompense totale : 93\n"
     ]
    },
    {
     "data": {
      "text/plain": [
       "<Figure size 640x480 with 0 Axes>"
      ]
     },
     "metadata": {},
     "output_type": "display_data"
    },
    {
     "data": {
      "image/png": "[encoded data removed]",
      "text/plain": [
       "<Figure size 500x500 with 1 Axes>"
      ]
     },
     "metadata": {},
     "output_type": "display_data"
    },
    {
     "data": {
      "text/plain": [
       "(8, 93)"
      ]
     },
     "execution_count": 59,
     "metadata": {},
     "output_type": "execute_result"
    }
   ],
   "source": [
    "test_agent(agent, maze, num_episodes=100)"
   ]
  }
 ],
 "metadata": {
  "colab": {
   "provenance": []
  },
  "kernelspec": {
   "display_name": "Python [conda env:anaconda3]",
   "language": "python",
   "name": "conda-env-anaconda3-py"
  },
  "language_info": {
   "codemirror_mode": {
    "name": "ipython",
    "version": 3
   },
   "file_extension": ".py",
   "mimetype": "text/x-python",
   "name": "python",
   "nbconvert_exporter": "python",
   "pygments_lexer": "ipython3",
   "version": "3.11.5"
  }
 },
 "nbformat": 4,
 "nbformat_minor": 4
}
